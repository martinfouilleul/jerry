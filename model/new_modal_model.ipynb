{
 "cells": [
  {
   "cell_type": "markdown",
   "metadata": {},
   "source": [
    "# Modélisation d'une membrane couplée à une cavitée\n",
    "> Auteur: Antoine CAILLON\n",
    "\n",
    "On suppose (voir l'article de *MARC*) que les fréquences des modes de la membrane $f$ sont fonction de $\\rho, c, V, T, a$, de telle sorte que $$J_0(w) = \\frac{-\\chi}{w^2}J_2(w),$$ avec $$\\chi=\\frac{\\pi \\rho c^2 a^4}{VT}, ~~ w = \\frac{2\\pi f a}{c}.$$\n",
    "\n",
    "Trouver les bonne fréquences en fonction de $\\rho, c, V, T, a$ revient à faire une recherche de zéros sur l'équation 1, ce qui n'est pas compatible avec une idée de faire du contrôle actif en temps réel. On va donc précalculer en fonction de $\\chi$ les valeurs des racines de l'équation 1, et faire $n$ approximation polynomiale $\\mathcal P$ d'ordre 4 sur la $n^{\\text{ème}}$ racine afin de pouvoir accéder plus rapidement à la valeur des fréquences.\n",
    "\n",
    "L'intérêt de l'équation 1 est qu'elle donne la valeur des fréquences des modes de la membrane en fonction du volume, qu'on peut écrire $$V = V_0 - \\Delta V,$$ où $\\Delta V$ est la variation de volume apportée par le déplacement de la membrane du HP.\n",
    "\n",
    "En reliant la tension $u$ au déplacement $x$ de la membrane du HP, on peut donc obtenir $$\\Delta V = (u \\ast h)  A_{HP},$$ où $h$ est une fonction de blanchissement de la fonction de transfert du HP et $A_{HP}$ l'aire de la membrane du HP.\n",
    "\n",
    "Cela permet de faire le lien entre tension appliquée au HP et fréquence des modes de la membrane du tom:\n",
    "\n",
    "$$\n",
    "f_n = \\frac{c}{2\\pi a}\\mathcal P_n \\left(\\frac{\\pi \\rho c^2 a^4}{(V_0 - (u \\ast h)  A_{HP})T}\\right)\n",
    "$$"
   ]
  },
  {
   "cell_type": "code",
   "execution_count": 1,
   "metadata": {},
   "outputs": [],
   "source": [
    "from scipy.special import jv\n",
    "from scipy.optimize import newton\n",
    "import matplotlib.pyplot as plt\n",
    "import numpy as np\n",
    "from IPython.display import Markdown"
   ]
  },
  {
   "cell_type": "code",
   "execution_count": 2,
   "metadata": {},
   "outputs": [],
   "source": [
    "import numpy as np\n",
    "from scipy.optimize import newton\n",
    "from scipy.special import jv\n",
    "\n",
    "def find_roots(fun, n):\n",
    "    x = 1e-16\n",
    "    xin = 0\n",
    "    dx = 1e-3\n",
    "    \n",
    "    roots = []\n",
    "    \n",
    "    for i in range(n):\n",
    "        while 1:\n",
    "            if (abs(fun(x)) > .05) and not xin:\n",
    "                x += dx\n",
    "            elif (abs(fun(x)) <= .05) and not xin:\n",
    "                xin = x\n",
    "                x += dx\n",
    "            elif (abs(fun(x)) > .05) and xin:\n",
    "                xout = x\n",
    "                roots.append(newton(fun, xin))\n",
    "                xin = 0\n",
    "                break\n",
    "            else:\n",
    "                x += dx\n",
    "    return np.array(roots)\n",
    "\n",
    "def get_xi(rho, c, a, V, T):\n",
    "    xi = np.pi*rho*c**2*a**4/(V*T)\n",
    "    return xi\n",
    "\n",
    "def get_f(xi):\n",
    "    return lambda w: jv(0,w) + xi/w**2 * jv(2,w)"
   ]
  },
  {
   "cell_type": "code",
   "execution_count": 3,
   "metadata": {},
   "outputs": [],
   "source": [
    "n_f = 6\n",
    "N   = 100\n",
    "\n",
    "xi = np.linspace(0, 20, N)\n",
    "\n",
    "roots = np.zeros([n_f, N])\n",
    "\n",
    "for i,x in enumerate(xi):\n",
    "    f = get_f(x)\n",
    "    roots[:, i] = find_roots(f, n_f)\n",
    "    "
   ]
  },
  {
   "cell_type": "code",
   "execution_count": 4,
   "metadata": {},
   "outputs": [],
   "source": [
    "poly = []\n",
    "\n",
    "ordre  = 4\n",
    "\n",
    "for i in range(n_f):\n",
    "    poly.append(np.polyfit(xi,roots[i,:], ordre))"
   ]
  },
  {
   "cell_type": "code",
   "execution_count": 5,
   "metadata": {},
   "outputs": [],
   "source": [
    "poly = np.array(poly)"
   ]
  },
  {
   "cell_type": "code",
   "execution_count": 7,
   "metadata": {},
   "outputs": [
    {
     "data": {
      "text/markdown": [
       "```C++\n",
       "#include \"fillPolyTable.h\"\n",
       "\n",
       "//Usage:\n",
       "//float poly[30];\n",
       "//fillPolyTable(&poly);\n",
       "\n",
       "//Coef_j of mode_i is poly[5 * mode_i + coef_j]\n",
       "//Order 4 polynomial approximation of w0, for xi going from 0.000000 to 20.000000.\n",
       "\n",
       "void fillPolyTable(float* poly)\n",
       "{\n",
       "\tpoly[0] = -0.000002;\n",
       "\tpoly[1] = 0.000108;\n",
       "\tpoly[2] = -0.004266;\n",
       "\tpoly[3] = 0.141605;\n",
       "\tpoly[4] = 2.406022;\n",
       "\tpoly[5] = -0.000000;\n",
       "\tpoly[6] = 0.000010;\n",
       "\tpoly[7] = 0.000265;\n",
       "\tpoly[8] = 0.011996;\n",
       "\tpoly[9] = 5.520011;\n",
       "\tpoly[10] = 0.000000;\n",
       "\tpoly[11] = 0.000000;\n",
       "\tpoly[12] = 0.000038;\n",
       "\tpoly[13] = 0.003085;\n",
       "\tpoly[14] = 8.653728;\n",
       "\tpoly[15] = 0.000000;\n",
       "\tpoly[16] = 0.000000;\n",
       "\tpoly[17] = 0.000008;\n",
       "\tpoly[18] = 0.001220;\n",
       "\tpoly[19] = 11.791534;\n",
       "\tpoly[20] = 0.000000;\n",
       "\tpoly[21] = 0.000000;\n",
       "\tpoly[22] = 0.000003;\n",
       "\tpoly[23] = 0.000601;\n",
       "\tpoly[24] = 14.930918;\n",
       "\tpoly[25] = 0.000000;\n",
       "\tpoly[26] = 0.000000;\n",
       "\tpoly[27] = 0.000001;\n",
       "\tpoly[28] = 0.000339;\n",
       "\tpoly[29] = 18.071064;\n",
       "}```"
      ],
      "text/plain": [
       "<IPython.core.display.Markdown object>"
      ]
     },
     "execution_count": 7,
     "metadata": {},
     "output_type": "execute_result"
    }
   ],
   "source": [
    "def generate_cxx_code(poly):\n",
    "    code = \"#include \\\"fillPolyTable.h\\\"\\n\\n\"\n",
    "    code += \"//Usage:\\n\"\n",
    "    code += \"//float poly[%d];\\n\" % (np.product(poly.shape))\n",
    "    code += \"//fillPolyTable(&poly);\\n\"\n",
    "    code += \"\\n//Coef_j of mode_i is poly[%d * mode_i + coef_j]\\n\" % (ordre+1) \n",
    "    code += \"//Order %d polynomial approximation of w0, for xi going from %f to %f.\\n\" % (ordre, np.min(xi), np.max(xi))\n",
    "    code += \"\\nvoid fillPolyTable(float* poly)\\n{\\n\"\n",
    "    for i in range(np.product(poly.shape)):\n",
    "        code += \"\\tpoly[%d] = %f;\\n\" % (i, poly[i//(ordre+1),i%(ordre+1)])\n",
    "    code += \"}\"\n",
    "\n",
    "    with open(\"fillPolyTable.cpp\",\"w\") as output:\n",
    "        output.write(code)\n",
    "    with open(\"fillPolyTable.h\",\"w\") as output:\n",
    "        output.write(\"#pragma once\\n\\nvoid fillPolyTable(float* poly);\")\n",
    "        \n",
    "    return code\n",
    "    \n",
    "code = generate_cxx_code(poly)\n",
    "\n",
    "Markdown(\"```C++\\n\"+code+\"```\")"
   ]
  },
  {
   "cell_type": "code",
   "execution_count": null,
   "metadata": {},
   "outputs": [],
   "source": []
  }
 ],
 "metadata": {
  "kernelspec": {
   "display_name": "Python 3",
   "language": "python",
   "name": "python3"
  },
  "language_info": {
   "codemirror_mode": {
    "name": "ipython",
    "version": 3
   },
   "file_extension": ".py",
   "mimetype": "text/x-python",
   "name": "python",
   "nbconvert_exporter": "python",
   "pygments_lexer": "ipython3",
   "version": "3.6.7"
  }
 },
 "nbformat": 4,
 "nbformat_minor": 2
}
