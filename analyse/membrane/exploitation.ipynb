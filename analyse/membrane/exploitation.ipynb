{
 "cells": [
  {
   "cell_type": "markdown",
   "metadata": {},
   "source": [
    "# Exploitation des données issues de ESPRIT"
   ]
  },
  {
   "cell_type": "code",
   "execution_count": null,
   "metadata": {},
   "outputs": [],
   "source": [
    "import numpy as np\n",
    "from IPython.display import Audio\n",
    "import matplotlib.pyplot as plt"
   ]
  },
  {
   "cell_type": "code",
   "execution_count": null,
   "metadata": {},
   "outputs": [],
   "source": [
    "analyse = np.load(\"analyse.npy\").item()\n",
    "sample = analyse[\"frappe centre.wav\"]"
   ]
  },
  {
   "cell_type": "code",
   "execution_count": null,
   "metadata": {},
   "outputs": [],
   "source": [
    "fs = 22050\n",
    "\n",
    "sample_number = 1\n",
    "\n",
    "spec = abs(np.fft.fft(sample[sample_number][1]))\n",
    "f = np.linspace(0, fs, len(spec))\n",
    "\n",
    "esprit = sample[sample_number][2]\n",
    "esprit = esprit[esprit>0]\n",
    "\n",
    "idx = np.ceil(len(spec)*esprit/fs).astype(int)\n",
    "\n",
    "fig = plt.figure(figsize=(7,4))\n",
    "\n",
    "ax = fig.add_subplot(111)\n",
    "ax.plot(f,spec, \"k\")\n",
    "ax.plot(f[idx], spec[idx], \"ko\")\n",
    "\n",
    "for i,o in enumerate(list(idx)):\n",
    "    if spec[o] > 6:\n",
    "        ax.annotate(\"%dHz\" % int(esprit[i]), (f[o]+ 10, spec[o]))\n",
    "\n",
    "\n",
    "plt.xlim([40,1000])\n",
    "\n",
    "plt.xlabel(\"Frequency (Hz)\")\n",
    "plt.ylabel(\"Amplitude (dB)\")\n",
    "\n",
    "plt.grid()\n",
    "plt.show()"
   ]
  }
 ],
 "metadata": {
  "kernelspec": {
   "display_name": "Python 3",
   "language": "python",
   "name": "python3"
  },
  "language_info": {
   "codemirror_mode": {
    "name": "ipython",
    "version": 3
   },
   "file_extension": ".py",
   "mimetype": "text/x-python",
   "name": "python",
   "nbconvert_exporter": "python",
   "pygments_lexer": "ipython3",
   "version": "3.6.7"
  }
 },
 "nbformat": 4,
 "nbformat_minor": 2
}
